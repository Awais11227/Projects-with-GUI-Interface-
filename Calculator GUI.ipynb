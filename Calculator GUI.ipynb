{
 "cells": [
  {
   "cell_type": "markdown",
   "metadata": {},
   "source": [
    "# PROJECT \n",
    "\n",
    "# Calculator GUI\n",
    "\n",
    "# By Awais Manzoor \n",
    "\n",
    "# Data Analyst"
   ]
  },
  {
   "cell_type": "code",
   "execution_count": null,
   "metadata": {},
   "outputs": [],
   "source": [
    "import tkinter as tk\n",
    "\n",
    "\n",
    "def update_input(value):                                                                # Function to update the input field\n",
    "    current_text = input_field.get()\n",
    "    input_field.delete(0, tk.END)\n",
    "    input_field.insert(0, current_text + value)\n",
    "\n",
    "\n",
    "def clear_input():                                                                      # Function to clear the input field\n",
    "    input_field.delete(0, tk.END)\n",
    "\n",
    "def calculate():                                                                        # Function to evaluate the expression\n",
    "\n",
    "    try:\n",
    "        result = eval(input_field.get())\n",
    "        input_field.delete(0, tk.END)\n",
    "        input_field.insert(0, str(result))\n",
    "    except Exception as e:\n",
    "        input_field.delete(0, tk.END)\n",
    "        input_field.insert(0, \"Error\")\n",
    "\n",
    "root = tk.Tk()                                                                            # Create the main window\n",
    "root.title(\"Calculator\")\n",
    "\n",
    "# Create an input field\n",
    "input_field = tk.Entry(root, width=40, borderwidth=5)\n",
    "input_field.grid(row=0, column=0, columnspan=4, padx=10, pady=10)\n",
    "                                                                                        # Define buttons\n",
    "\n",
    "buttons = [\n",
    "    ('7', 1, 0), ('8', 1, 1), ('9', 1, 2), ('/', 1, 3),\n",
    "    ('4', 2, 0), ('5', 2, 1), ('6', 2, 2), ('*', 2, 3),\n",
    "    ('1', 3, 0), ('2', 3, 1), ('3', 3, 2), ('-', 3, 3),\n",
    "    ('0', 4, 0), ('C', 4, 1), ('=', 4, 2), ('+', 4, 3)\n",
    "]\n",
    "\n",
    "for (text, row, col) in buttons:                                                            # Create and place buttons\n",
    "    if text == '=':\n",
    "        button = tk.Button(root, text=text, padx=40, pady=20, command=calculate)\n",
    "    elif text == 'C':\n",
    "        button = tk.Button(root, text=text, padx=40, pady=20, command=clear_input)\n",
    "    else:\n",
    "        button = tk.Button(root, text=text, padx=40, pady=20, command=lambda t=text: update_input(t))\n",
    "    button.grid(row=row, column=col)\n",
    "\n",
    "root.mainloop()                                                                              # Run the application\n"
   ]
  },
  {
   "cell_type": "code",
   "execution_count": null,
   "metadata": {},
   "outputs": [],
   "source": []
  }
 ],
 "metadata": {
  "kernelspec": {
   "display_name": "Python 3",
   "language": "python",
   "name": "python3"
  },
  "language_info": {
   "codemirror_mode": {
    "name": "ipython",
    "version": 3
   },
   "file_extension": ".py",
   "mimetype": "text/x-python",
   "name": "python",
   "nbconvert_exporter": "python",
   "pygments_lexer": "ipython3",
   "version": "3.12.2"
  }
 },
 "nbformat": 4,
 "nbformat_minor": 2
}

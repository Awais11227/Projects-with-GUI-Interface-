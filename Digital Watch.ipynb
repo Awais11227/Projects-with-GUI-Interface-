{
 "cells": [
  {
   "cell_type": "markdown",
   "metadata": {},
   "source": [
    "# Digital Watch\n",
    "\n",
    "# By Awais Manzoor\n",
    "\n",
    "# Data Analyst\n"
   ]
  },
  {
   "cell_type": "code",
   "execution_count": null,
   "metadata": {},
   "outputs": [],
   "source": [
    "import tkinter as tk\n",
    "import time\n",
    "\n",
    "# Theme \n",
    "dark_mode = True                                                        # Dark Mode\n",
    "BG_COLOR_DARK = \"black\"\n",
    "FG_COLOR_DARK = \"lime\"\n",
    "BG_COLOR_LIGHT = \"white\"\n",
    "FG_COLOR_LIGHT = \"black\"\n",
    "\n",
    "FONT_STYLE = (\"Helvetica\", 80, \"bold\")                                   # font time\n",
    "DATE_FONT_STYLE = (\"Helvetica\", 30, \"bold\")                              # font  date\n",
    "DEV_FONT_STYLE = (\"Helvetica\", 20, \"bold\")                               #  developer name\n",
    "\n",
    "# Create main\n",
    "root = tk.Tk()\n",
    "root.title(\"Digital Clock\")\n",
    "root.geometry(\"600x400\")\n",
    "root.configure(bg=BG_COLOR_DARK)\n",
    "\n",
    "# Display \"Developed by Awais Manzoor\"\n",
    "developer_label = tk.Label(root, text=\"Developed by Awais Manzoor\", font=DEV_FONT_STYLE, bg=BG_COLOR_DARK, fg=\"white\")\n",
    "developer_label.pack(pady=10)\n",
    "\n",
    "# Create time \n",
    "clock_label = tk.Label(root, font=FONT_STYLE, bg=BG_COLOR_DARK, fg=FG_COLOR_DARK)\n",
    "clock_label.pack(pady=10)\n",
    "\n",
    "# Create date \n",
    "date_label = tk.Label(root, font=DATE_FONT_STYLE, bg=BG_COLOR_DARK, fg=\"white\")\n",
    "date_label.pack(pady=5)\n",
    "\n",
    "# Colon Feature\n",
    "show_colon = True\n",
    "\n",
    "def update_time():\n",
    "    global show_colon\n",
    "    current_time = time.strftime(\"%H:%M\" + (\":\" if show_colon else \" \") + \"%S\")  \n",
    "    current_date = time.strftime(\"%A, %B %d, %Y\")                                                     # Format: Day, Month Date, \n",
    "    clock_label.config(text=current_time)\n",
    "    date_label.config(text=current_date)\n",
    "    show_colon = not show_colon  \n",
    "    root.after(1000, update_time)                                                                      # Update every second\n",
    "\n",
    "# Theme Function\n",
    "def toggle_theme():\n",
    "    global dark_mode\n",
    "    dark_mode = not dark_mode\n",
    "    bg_color = BG_COLOR_DARK if dark_mode else BG_COLOR_LIGHT\n",
    "    fg_color = FG_COLOR_DARK if dark_mode else FG_COLOR_LIGHT\n",
    "    dev_color = \"white\" if dark_mode else \"black\"\n",
    "\n",
    "    root.configure(bg=bg_color)\n",
    "    developer_label.config(bg=bg_color, fg=dev_color)\n",
    "    clock_label.config(bg=bg_color, fg=fg_color)\n",
    "    date_label.config(bg=bg_color, fg=dev_color)\n",
    "    theme_button.config(bg=fg_color, fg=bg_color, text=\"Switch to Light Mode\" if dark_mode else \"Switch to Dark Mode\")\n",
    "\n",
    "# Add a Theme \n",
    "theme_button = tk.Button(root, text=\"Switch to Light Mode\", font=(\"Helvetica\", 14, \"bold\"), bg=FG_COLOR_DARK, fg=BG_COLOR_DARK, command=toggle_theme)\n",
    "theme_button.pack(pady=10)\n",
    "\n",
    "# Start \n",
    "update_time()\n",
    "\n",
    "# Run that\n",
    "root.mainloop()\n"
   ]
  },
  {
   "cell_type": "code",
   "execution_count": null,
   "metadata": {},
   "outputs": [],
   "source": []
  }
 ],
 "metadata": {
  "kernelspec": {
   "display_name": "Python 3",
   "language": "python",
   "name": "python3"
  },
  "language_info": {
   "codemirror_mode": {
    "name": "ipython",
    "version": 3
   },
   "file_extension": ".py",
   "mimetype": "text/x-python",
   "name": "python",
   "nbconvert_exporter": "python",
   "pygments_lexer": "ipython3",
   "version": "3.12.2"
  }
 },
 "nbformat": 4,
 "nbformat_minor": 2
}

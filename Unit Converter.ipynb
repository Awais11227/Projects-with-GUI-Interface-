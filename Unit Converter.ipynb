{
 "cells": [
  {
   "cell_type": "markdown",
   "metadata": {},
   "source": [
    "# Unit Converter GUI\n",
    "\n",
    "# By Awais Manzoor\n",
    "\n",
    "# Data Analyst"
   ]
  },
  {
   "cell_type": "code",
   "execution_count": 1,
   "metadata": {},
   "outputs": [],
   "source": [
    "import tkinter as tk\n",
    "from tkinter import messagebox\n",
    "\n",
    "def convert():\n",
    "    try:\n",
    "        value = float(entry.get())\n",
    "        conversion_type = conversion_var.get()\n",
    "        \n",
    "        if conversion_type == \"KM to Miles\":\n",
    "            result = value * 0.621371\n",
    "            result_label.config(text=f\"{value} km = {result:.2f} miles\")\n",
    "        elif conversion_type == \"Meters to Feet\":\n",
    "            result = value * 3.28084\n",
    "            result_label.config(text=f\"{value} meters = {result:.2f} feet\")\n",
    "        elif conversion_type == \"Celsius to Fahrenheit\":\n",
    "            result = (value * 9/5) + 32\n",
    "            result_label.config(text=f\"{value}°C = {result:.2f}°F\")\n",
    "    except ValueError:\n",
    "        messagebox.showerror(\"Invalid Input\", \"Please enter a valid number.\")\n",
    "\n",
    "def exit_app():\n",
    "    root.destroy()\n",
    "\n",
    "# Create main window\n",
    "root = tk.Tk()\n",
    "root.title(\"Unit Converter\")\n",
    "root.geometry(\"400x300\")\n",
    "root.configure(bg=\"#f0f0f0\")\n",
    "\n",
    "# Label\n",
    "tk.Label(root, text=\"Enter value:\", font=(\"Arial\", 12, \"bold\"), bg=\"#f0f0f0\").pack(pady=10)\n",
    "\n",
    "# Entry\n",
    "entry = tk.Entry(root, font=(\"Arial\", 12))\n",
    "entry.pack(pady=5, ipadx=10, ipady=5)\n",
    "\n",
    "#  menu\n",
    "conversion_var = tk.StringVar()\n",
    "conversion_var.set(\"KM to Miles\")\n",
    "conversion_options = [\"KM to Miles\", \"Meters to Feet\", \"Celsius to Fahrenheit\"]\n",
    "dropdown = tk.OptionMenu(root, conversion_var, *conversion_options)\n",
    "dropdown.config(font=(\"Arial\", 12))\n",
    "dropdown.pack(pady=5)\n",
    "\n",
    "# Convert button\n",
    "convert_button = tk.Button(root, text=\"Convert\", command=convert, font=(\"Arial\", 12), bg=\"#4CAF50\", fg=\"white\", padx=10, pady=5)\n",
    "convert_button.pack(pady=10)\n",
    "\n",
    "# Result\n",
    "result_label = tk.Label(root, text=\"\", font=(\"Arial\", 12, \"bold\"), bg=\"#f0f0f0\")\n",
    "result_label.pack(pady=5)\n",
    "\n",
    "# Exit button\n",
    "exit_button = tk.Button(root, text=\"Exit\", command=exit_app, font=(\"Arial\", 12), bg=\"#f44336\", fg=\"white\", padx=10, pady=5)\n",
    "exit_button.pack(pady=10)\n",
    "\n",
    "# Run the application\n",
    "root.mainloop()\n"
   ]
  },
  {
   "cell_type": "code",
   "execution_count": null,
   "metadata": {},
   "outputs": [],
   "source": []
  }
 ],
 "metadata": {
  "kernelspec": {
   "display_name": "Python 3",
   "language": "python",
   "name": "python3"
  },
  "language_info": {
   "codemirror_mode": {
    "name": "ipython",
    "version": 3
   },
   "file_extension": ".py",
   "mimetype": "text/x-python",
   "name": "python",
   "nbconvert_exporter": "python",
   "pygments_lexer": "ipython3",
   "version": "3.12.2"
  }
 },
 "nbformat": 4,
 "nbformat_minor": 2
}
